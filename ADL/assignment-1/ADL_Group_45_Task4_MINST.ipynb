{
 "cells": [
  {
   "cell_type": "markdown",
   "id": "90eb8480",
   "metadata": {},
   "source": [
    "##Assignment 1, Task 4 :7 segment LED display a deep convolutional autoencoder with MNIST dataset \n",
    "\n",
    "#ADL Group 45 \n",
    "\n",
    "##Contribution Member\n",
    "    \n",
    "    Hemant Kumar Parakh (2023AA05741)\n",
    "    Sushil Kumar (2023aa05849)\n",
    "    Jitendra Kumar (2023aa05198)\n",
    "    Parth Vashihtha (2023ab05104)\n",
    "\n",
    "Dataset Used : Minst."
   ]
  },
  {
   "cell_type": "raw",
   "id": "31890331",
   "metadata": {},
   "source": [
    "#  Task 4\n",
    "\n",
    "Train a deep convolutional autoencoder with MNIST dataset and using extracted features train a MLP classifier with 7 outputs (7 segment LED display) that are representative of 10 digits. For example images of \"0\" will be classified as \n",
    "\n",
    "   1 \n",
    "\n",
    "1    1\n",
    "\n",
    "   1    \n",
    "\n",
    "1     1\n",
    "\n",
    "   1 \n",
    "\n",
    "7 will be \"classified\" as\n",
    "\n",
    "   1 \n",
    "\n",
    "0    1\n",
    "\n",
    "   0    \n",
    "\n",
    "0    1\n",
    "\n",
    "   0\n",
    "\n",
    "Generate the confusion matrix for the corresponding test dataset."
   ]
  },
  {
   "cell_type": "code",
   "execution_count": 4,
   "id": "068e61dd",
   "metadata": {},
   "outputs": [],
   "source": [
    "#Import statement\n",
    "\n",
    "import numpy as np\n",
    "import tensorflow as tf\n",
    "from tensorflow.keras import layers, models\n",
    "from sklearn.metrics import confusion_matrix, classification_report\n",
    "import matplotlib.pyplot as plt"
   ]
  },
  {
   "cell_type": "code",
   "execution_count": 5,
   "id": "8302e2c9",
   "metadata": {},
   "outputs": [],
   "source": [
    "# Load MNIST dataset\n",
    "\n",
    "(x_train, y_train), (x_test, y_test) = tf.keras.datasets.mnist.load_data()"
   ]
  },
  {
   "cell_type": "code",
   "execution_count": 6,
   "id": "d0226546",
   "metadata": {},
   "outputs": [],
   "source": [
    "# Normalize the data in the form of 0 and 1\n",
    "\n",
    "x_train, x_test = x_train / 255.0, x_test / 255.0  "
   ]
  },
  {
   "cell_type": "code",
   "execution_count": 7,
   "id": "7cace0d7",
   "metadata": {},
   "outputs": [],
   "source": [
    "#  Reshapes the training and testing data for compatibility with convolutional layers in a neural network:\n",
    "\n",
    "x_train = x_train.reshape((-1, 28, 28, 1))\n",
    "x_test = x_test.reshape((-1, 28, 28, 1))"
   ]
  },
  {
   "cell_type": "code",
   "execution_count": 8,
   "id": "4923aecb",
   "metadata": {},
   "outputs": [],
   "source": [
    "# Define the 7-segment representation\n",
    "\n",
    "# 1: for the segment is ON.\n",
    "# 0: for the segment is OFF.\n",
    "\n",
    "digit_to_segments = {\n",
    "    0: [1, 1, 1, 1, 1, 1, 0],\n",
    "    1: [0, 1, 1, 0, 0, 0, 0],\n",
    "    2: [1, 1, 0, 1, 1, 0, 1],\n",
    "    3: [1, 1, 1, 1, 0, 0, 1],\n",
    "    4: [0, 1, 1, 0, 0, 1, 1],\n",
    "    5: [1, 0, 1, 1, 0, 1, 1],\n",
    "    6: [1, 0, 1, 1, 1, 1, 1],\n",
    "    7: [1, 1, 1, 0, 0, 0, 0],\n",
    "    8: [1, 1, 1, 1, 1, 1, 1],\n",
    "    9: [1, 1, 1, 1, 0, 1, 1],\n",
    "}"
   ]
  },
  {
   "cell_type": "code",
   "execution_count": 9,
   "id": "553137b3",
   "metadata": {},
   "outputs": [
    {
     "name": "stdout",
     "output_type": "stream",
     "text": [
      "y_train_segments :\n",
      "[[1 0 1 ... 0 1 1]\n",
      " [1 1 1 ... 1 1 0]\n",
      " [0 1 1 ... 0 1 1]\n",
      " ...\n",
      " [1 0 1 ... 0 1 1]\n",
      " [1 0 1 ... 1 1 1]\n",
      " [1 1 1 ... 1 1 1]]\n",
      "\n",
      "y_test_segments :\n",
      "[[1 0 1 ... 0 1 1]\n",
      " [1 1 1 ... 1 1 0]\n",
      " [0 1 1 ... 0 1 1]\n",
      " ...\n",
      " [1 0 1 ... 0 1 1]\n",
      " [1 0 1 ... 1 1 1]\n",
      " [1 1 1 ... 1 1 1]]\n"
     ]
    }
   ],
   "source": [
    "# converting Y values into their corresponding 7-segment LED display representations.\n",
    "\n",
    "y_train_segments = np.array([digit_to_segments[d] for d in y_train])\n",
    "print(\"y_train_segments :\")\n",
    "print(y_train_segments)\n",
    "y_test_segments = np.array([digit_to_segments[d] for d in y_test])\n",
    "print()\n",
    "print(\"y_test_segments :\")\n",
    "print(y_train_segments)"
   ]
  },
  {
   "cell_type": "code",
   "execution_count": 17,
   "id": "1218ce71",
   "metadata": {},
   "outputs": [],
   "source": [
    "# Defining the input image shape\n",
    "input_img = layers.Input(shape=(28, 28, 1))"
   ]
  },
  {
   "cell_type": "code",
   "execution_count": 18,
   "id": "20e377ae",
   "metadata": {},
   "outputs": [],
   "source": [
    "# Defining the encoder\n",
    "\n",
    "x = layers.Conv2D(32, (3, 3), activation='relu', padding='same')(input_img)\n",
    "x = layers.MaxPooling2D((2, 2))(x)\n",
    "x = layers.Conv2D(64, (3, 3), activation='relu', padding='same')(x)\n",
    "x = layers.MaxPooling2D((2, 2))(x)\n",
    "x = layers.Conv2D(128, (3, 3), activation='relu', padding='same')(x)\n",
    "x = layers.Flatten()(x)\n",
    "latent_space = layers.Dense(64, activation='relu')(x)  # Latent space\n"
   ]
  },
  {
   "cell_type": "code",
   "execution_count": 19,
   "id": "560e41e6",
   "metadata": {},
   "outputs": [],
   "source": [
    "# Defining the Decoder\n",
    "\n",
    "x = layers.Dense(7 * 7 * 128, activation='relu')(latent_space)\n",
    "x = layers.Reshape((7, 7, 128))(x)\n",
    "x = layers.Conv2DTranspose(128, (3, 3), activation='relu', padding='same')(x)\n",
    "x = layers.UpSampling2D((2, 2))(x)\n",
    "x = layers.Conv2DTranspose(64, (3, 3), activation='relu', padding='same')(x)\n",
    "x = layers.UpSampling2D((2, 2))(x)\n",
    "output_img = layers.Conv2D(1, (3, 3), activation='sigmoid', padding='same')(x)\n"
   ]
  },
  {
   "cell_type": "code",
   "execution_count": 20,
   "id": "f2426e53",
   "metadata": {},
   "outputs": [],
   "source": [
    "# Define Decoder input/ output\n",
    "decoder_input = layers.Input(shape=(64,))\n",
    "decoder_output = output_img\n"
   ]
  },
  {
   "cell_type": "code",
   "execution_count": 23,
   "id": "b37332bc",
   "metadata": {},
   "outputs": [],
   "source": [
    "# Defining models\n",
    "\n",
    "#The encoder model captures the process of compressing input images into a latent space.\n",
    "encoder = models.Model(inputs=input_img, outputs=latent_space, name=\"Encoder\")\n",
    "\n",
    "\n",
    "#The decoder model handles the reconstruction process,taking the latent space representation and \n",
    "#reconstructing the original input image\n",
    "decoder = models.Model(inputs=decoder_input, outputs=decoder_output, name=\"Decoder\")\n",
    "\n",
    "\n",
    "#Autoencoder model\n",
    "autoencoder = models.Model(inputs=input_img, outputs=output_img, name=\"Autoencoder\")"
   ]
  },
  {
   "cell_type": "code",
   "execution_count": 22,
   "id": "9f3d83df",
   "metadata": {},
   "outputs": [
    {
     "name": "stdout",
     "output_type": "stream",
     "text": [
      "Epoch 1/10\n",
      "\u001b[1m422/422\u001b[0m \u001b[32m━━━━━━━━━━━━━━━━━━━━\u001b[0m\u001b[37m\u001b[0m \u001b[1m54s\u001b[0m 125ms/step - loss: 0.1179 - val_loss: 0.1114\n",
      "Epoch 2/10\n",
      "\u001b[1m422/422\u001b[0m \u001b[32m━━━━━━━━━━━━━━━━━━━━\u001b[0m\u001b[37m\u001b[0m \u001b[1m59s\u001b[0m 139ms/step - loss: 0.1121 - val_loss: 0.1114\n",
      "Epoch 3/10\n",
      "\u001b[1m422/422\u001b[0m \u001b[32m━━━━━━━━━━━━━━━━━━━━\u001b[0m\u001b[37m\u001b[0m \u001b[1m58s\u001b[0m 138ms/step - loss: 0.1123 - val_loss: 0.1114\n",
      "Epoch 4/10\n",
      "\u001b[1m422/422\u001b[0m \u001b[32m━━━━━━━━━━━━━━━━━━━━\u001b[0m\u001b[37m\u001b[0m \u001b[1m58s\u001b[0m 138ms/step - loss: 0.1121 - val_loss: 0.1114\n",
      "Epoch 5/10\n",
      "\u001b[1m422/422\u001b[0m \u001b[32m━━━━━━━━━━━━━━━━━━━━\u001b[0m\u001b[37m\u001b[0m \u001b[1m58s\u001b[0m 137ms/step - loss: 0.1120 - val_loss: 0.1114\n",
      "Epoch 6/10\n",
      "\u001b[1m422/422\u001b[0m \u001b[32m━━━━━━━━━━━━━━━━━━━━\u001b[0m\u001b[37m\u001b[0m \u001b[1m61s\u001b[0m 144ms/step - loss: 0.1119 - val_loss: 0.1114\n",
      "Epoch 7/10\n",
      "\u001b[1m422/422\u001b[0m \u001b[32m━━━━━━━━━━━━━━━━━━━━\u001b[0m\u001b[37m\u001b[0m \u001b[1m60s\u001b[0m 142ms/step - loss: 0.1121 - val_loss: 0.1114\n",
      "Epoch 8/10\n",
      "\u001b[1m422/422\u001b[0m \u001b[32m━━━━━━━━━━━━━━━━━━━━\u001b[0m\u001b[37m\u001b[0m \u001b[1m59s\u001b[0m 139ms/step - loss: 0.1124 - val_loss: 0.1114\n",
      "Epoch 9/10\n",
      "\u001b[1m422/422\u001b[0m \u001b[32m━━━━━━━━━━━━━━━━━━━━\u001b[0m\u001b[37m\u001b[0m \u001b[1m64s\u001b[0m 151ms/step - loss: 0.1121 - val_loss: 0.1114\n",
      "Epoch 10/10\n",
      "\u001b[1m422/422\u001b[0m \u001b[32m━━━━━━━━━━━━━━━━━━━━\u001b[0m\u001b[37m\u001b[0m \u001b[1m64s\u001b[0m 151ms/step - loss: 0.1119 - val_loss: 0.1114\n"
     ]
    },
    {
     "data": {
      "text/plain": [
       "<keras.src.callbacks.history.History at 0x76a93bf19990>"
      ]
     },
     "execution_count": 22,
     "metadata": {},
     "output_type": "execute_result"
    }
   ],
   "source": [
    "#compile and trained\n",
    "\n",
    "autoencoder.compile(optimizer='adam', loss='mse')\n",
    "autoencoder.fit(x_train, x_train, epochs=10, batch_size=128, validation_split=0.1)"
   ]
  },
  {
   "cell_type": "code",
   "execution_count": 25,
   "id": "ee3098b5",
   "metadata": {},
   "outputs": [
    {
     "name": "stdout",
     "output_type": "stream",
     "text": [
      "\u001b[1m1875/1875\u001b[0m \u001b[32m━━━━━━━━━━━━━━━━━━━━\u001b[0m\u001b[37m\u001b[0m \u001b[1m6s\u001b[0m 3ms/step\n",
      "\u001b[1m313/313\u001b[0m \u001b[32m━━━━━━━━━━━━━━━━━━━━\u001b[0m\u001b[37m\u001b[0m \u001b[1m1s\u001b[0m 3ms/step\n"
     ]
    }
   ],
   "source": [
    "# Extract features from the encoder\n",
    "x_train_encoded = encoder.predict(x_train)\n",
    "x_test_encoded = encoder.predict(x_test)\n",
    "\n",
    "#reconstructed_images = decoder.predict(x_train_features[:10])"
   ]
  },
  {
   "cell_type": "code",
   "execution_count": 26,
   "id": "3ef85ea4",
   "metadata": {},
   "outputs": [],
   "source": [
    "# Build MLP model for training\n",
    "mlp = models.Sequential([\n",
    "    layers.Input(shape=(64,)),\n",
    "    layers.Dense(128, activation='relu'),\n",
    "    layers.Dense(64, activation='relu'),\n",
    "    layers.Dense(7, activation='sigmoid')\n",
    "])\n"
   ]
  },
  {
   "cell_type": "code",
   "execution_count": 27,
   "id": "bc4bf167",
   "metadata": {},
   "outputs": [
    {
     "name": "stdout",
     "output_type": "stream",
     "text": [
      "Epoch 1/10\n",
      "\u001b[1m422/422\u001b[0m \u001b[32m━━━━━━━━━━━━━━━━━━━━\u001b[0m\u001b[37m\u001b[0m \u001b[1m1s\u001b[0m 1ms/step - accuracy: 0.2064 - loss: 0.9540 - val_accuracy: 0.0000e+00 - val_loss: 0.5491\n",
      "Epoch 2/10\n",
      "\u001b[1m422/422\u001b[0m \u001b[32m━━━━━━━━━━━━━━━━━━━━\u001b[0m\u001b[37m\u001b[0m \u001b[1m0s\u001b[0m 787us/step - accuracy: 0.0976 - loss: 0.5489 - val_accuracy: 0.7462 - val_loss: 0.5536\n",
      "Epoch 3/10\n",
      "\u001b[1m422/422\u001b[0m \u001b[32m━━━━━━━━━━━━━━━━━━━━\u001b[0m\u001b[37m\u001b[0m \u001b[1m0s\u001b[0m 770us/step - accuracy: 0.1598 - loss: 0.5382 - val_accuracy: 0.1082 - val_loss: 0.5264\n",
      "Epoch 4/10\n",
      "\u001b[1m422/422\u001b[0m \u001b[32m━━━━━━━━━━━━━━━━━━━━\u001b[0m\u001b[37m\u001b[0m \u001b[1m0s\u001b[0m 784us/step - accuracy: 0.1364 - loss: 0.5211 - val_accuracy: 0.1797 - val_loss: 0.4986\n",
      "Epoch 5/10\n",
      "\u001b[1m422/422\u001b[0m \u001b[32m━━━━━━━━━━━━━━━━━━━━\u001b[0m\u001b[37m\u001b[0m \u001b[1m0s\u001b[0m 787us/step - accuracy: 0.2391 - loss: 0.5040 - val_accuracy: 0.1325 - val_loss: 0.4855\n",
      "Epoch 6/10\n",
      "\u001b[1m422/422\u001b[0m \u001b[32m━━━━━━━━━━━━━━━━━━━━\u001b[0m\u001b[37m\u001b[0m \u001b[1m0s\u001b[0m 781us/step - accuracy: 0.2729 - loss: 0.4872 - val_accuracy: 0.2332 - val_loss: 0.4735\n",
      "Epoch 7/10\n",
      "\u001b[1m422/422\u001b[0m \u001b[32m━━━━━━━━━━━━━━━━━━━━\u001b[0m\u001b[37m\u001b[0m \u001b[1m0s\u001b[0m 785us/step - accuracy: 0.2782 - loss: 0.4810 - val_accuracy: 0.2535 - val_loss: 0.4694\n",
      "Epoch 8/10\n",
      "\u001b[1m422/422\u001b[0m \u001b[32m━━━━━━━━━━━━━━━━━━━━\u001b[0m\u001b[37m\u001b[0m \u001b[1m0s\u001b[0m 781us/step - accuracy: 0.2719 - loss: 0.4745 - val_accuracy: 0.2017 - val_loss: 0.4499\n",
      "Epoch 9/10\n",
      "\u001b[1m422/422\u001b[0m \u001b[32m━━━━━━━━━━━━━━━━━━━━\u001b[0m\u001b[37m\u001b[0m \u001b[1m0s\u001b[0m 766us/step - accuracy: 0.2767 - loss: 0.4671 - val_accuracy: 0.3378 - val_loss: 0.4599\n",
      "Epoch 10/10\n",
      "\u001b[1m422/422\u001b[0m \u001b[32m━━━━━━━━━━━━━━━━━━━━\u001b[0m\u001b[37m\u001b[0m \u001b[1m0s\u001b[0m 781us/step - accuracy: 0.2720 - loss: 0.4582 - val_accuracy: 0.4557 - val_loss: 0.4401\n"
     ]
    },
    {
     "data": {
      "text/plain": [
       "<keras.src.callbacks.history.History at 0x76a9216bb190>"
      ]
     },
     "execution_count": 27,
     "metadata": {},
     "output_type": "execute_result"
    }
   ],
   "source": [
    "#Training the mlp models\n",
    "\n",
    "mlp.compile(optimizer='adam', loss='binary_crossentropy', metrics=['accuracy'])\n",
    "mlp.fit(x_train_encoded, y_train_segments, epochs=10, batch_size=128, validation_split=0.1)\n",
    "\n"
   ]
  },
  {
   "cell_type": "code",
   "execution_count": 46,
   "id": "a3ec2fd4",
   "metadata": {},
   "outputs": [],
   "source": [
    "\"\"\"Find the closest segment representation based on Hamming distance.\"\"\"\n",
    "def find_closest_segment(pred_segment, digit_to_segments):\n",
    "    min_distance = float('inf')\n",
    "    closest_digit = None\n",
    "    for digit, segment in digit_to_segments.items():\n",
    "        distance = np.sum(np.array(segment) != np.array(pred_segment))\n",
    "        if distance < min_distance:\n",
    "            min_distance = distance\n",
    "            closest_digit = digit\n",
    "    return closest_digit"
   ]
  },
  {
   "cell_type": "code",
   "execution_count": 49,
   "id": "8c3adb04",
   "metadata": {},
   "outputs": [
    {
     "name": "stdout",
     "output_type": "stream",
     "text": [
      "\u001b[1m313/313\u001b[0m \u001b[32m━━━━━━━━━━━━━━━━━━━━\u001b[0m\u001b[37m\u001b[0m \u001b[1m0s\u001b[0m 390us/step\n",
      "[[  2   0 131   8   0   0   0   0 829  10]\n",
      " [  0 338  16 590  55   0   0   6  49  81]\n",
      " [  0   0 651  17   8   0   0   0 326  30]\n",
      " [  0   1 501 150   2   0   0   0 334  22]\n",
      " [  0   4   0   9 172   0   0   0 376 421]\n",
      " [  0  10 126  60  47   0   0   3 537 109]\n",
      " [  0   2  71  31   4   0   0   0 782  68]\n",
      " [  1  24  26 325 118   0   0  13 130 391]\n",
      " [  0   0 117  57   1   0   0   0 738  61]\n",
      " [  0   6   6  38 113   0   0   0 250 596]]\n"
     ]
    }
   ],
   "source": [
    "# Evaluate and Generate Confusion Matrix\n",
    "y_pred_segments = (mlp.predict(x_test_encoded) > 0.5).astype(int)\n",
    "\n",
    "y_pred_digits = y_pred_digits = [find_closest_segment(p, digit_to_segments) for p in y_pred_segments]\n",
    "conf_matrix = confusion_matrix(y_test, y_pred_digits)\n",
    "print(conf_matrix)"
   ]
  },
  {
   "cell_type": "code",
   "execution_count": 51,
   "id": "9b050bcd",
   "metadata": {},
   "outputs": [
    {
     "data": {
      "image/png": "[encoded data removed]",
      "text/plain": [
       "<Figure size 1000x800 with 2 Axes>"
      ]
     },
     "metadata": {},
     "output_type": "display_data"
    }
   ],
   "source": [
    "# Plot the confusion matrix\n",
    "plt.figure(figsize=(10, 8))\n",
    "plt.imshow(conf_matrix, cmap='Blues')\n",
    "plt.colorbar()\n",
    "plt.xlabel(\"Predicted Labels\")\n",
    "plt.ylabel(\"True Labels\")\n",
    "plt.title(\"Confusion Matrix\")\n",
    "plt.show()"
   ]
  },
  {
   "cell_type": "code",
   "execution_count": null,
   "id": "a2ce962b",
   "metadata": {},
   "outputs": [],
   "source": []
  }
 ],
 "metadata": {
  "kernelspec": {
   "display_name": "Python 3 (ipykernel)",
   "language": "python",
   "name": "python3"
  },
  "language_info": {
   "codemirror_mode": {
    "name": "ipython",
    "version": 3
   },
   "file_extension": ".py",
   "mimetype": "text/x-python",
   "name": "python",
   "nbconvert_exporter": "python",
   "pygments_lexer": "ipython3",
   "version": "3.11.5"
  }
 },
 "nbformat": 4,
 "nbformat_minor": 5
}
